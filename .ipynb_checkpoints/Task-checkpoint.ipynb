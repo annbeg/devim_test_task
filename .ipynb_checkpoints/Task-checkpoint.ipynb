{
 "cells": [
  {
   "cell_type": "code",
   "execution_count": 1,
   "metadata": {},
   "outputs": [],
   "source": [
    "import pandas as pd"
   ]
  },
  {
   "cell_type": "markdown",
   "metadata": {},
   "source": [
    "Считывыем данные"
   ]
  },
  {
   "cell_type": "code",
   "execution_count": 2,
   "metadata": {},
   "outputs": [
    {
     "data": {
      "text/html": [
       "<div>\n",
       "<style scoped>\n",
       "    .dataframe tbody tr th:only-of-type {\n",
       "        vertical-align: middle;\n",
       "    }\n",
       "\n",
       "    .dataframe tbody tr th {\n",
       "        vertical-align: top;\n",
       "    }\n",
       "\n",
       "    .dataframe thead th {\n",
       "        text-align: right;\n",
       "    }\n",
       "</style>\n",
       "<table border=\"1\" class=\"dataframe\">\n",
       "  <thead>\n",
       "    <tr style=\"text-align: right;\">\n",
       "      <th></th>\n",
       "      <th>closed_cred_sum</th>\n",
       "      <th>closed_creds</th>\n",
       "      <th>active_cred_sum_overdue</th>\n",
       "      <th>active_cred_sum</th>\n",
       "      <th>active_cred_day_overdue</th>\n",
       "      <th>active_cred_max_overdue</th>\n",
       "      <th>age</th>\n",
       "      <th>gender</th>\n",
       "      <th>region</th>\n",
       "      <th>first_loan</th>\n",
       "      <th>loan_cost_all</th>\n",
       "      <th>first_days_quant</th>\n",
       "      <th>month_income</th>\n",
       "      <th>order_date</th>\n",
       "      <th>cost_all</th>\n",
       "      <th>order_id</th>\n",
       "      <th>client_id</th>\n",
       "      <th>expert</th>\n",
       "    </tr>\n",
       "  </thead>\n",
       "  <tbody>\n",
       "    <tr>\n",
       "      <th>0</th>\n",
       "      <td>143822.0</td>\n",
       "      <td>22</td>\n",
       "      <td>104.12</td>\n",
       "      <td>130068.80</td>\n",
       "      <td>8</td>\n",
       "      <td>756.09</td>\n",
       "      <td>31</td>\n",
       "      <td>0</td>\n",
       "      <td>36</td>\n",
       "      <td>10000.0</td>\n",
       "      <td>10000</td>\n",
       "      <td>196</td>\n",
       "      <td>0.0</td>\n",
       "      <td>2017-07-23</td>\n",
       "      <td>0.0</td>\n",
       "      <td>728319</td>\n",
       "      <td>320464</td>\n",
       "      <td>1</td>\n",
       "    </tr>\n",
       "    <tr>\n",
       "      <th>1</th>\n",
       "      <td>0.0</td>\n",
       "      <td>0</td>\n",
       "      <td>38151.93</td>\n",
       "      <td>46230.00</td>\n",
       "      <td>1492</td>\n",
       "      <td>38151.93</td>\n",
       "      <td>51</td>\n",
       "      <td>0</td>\n",
       "      <td>93</td>\n",
       "      <td>10000.0</td>\n",
       "      <td>10000</td>\n",
       "      <td>17</td>\n",
       "      <td>20000.0</td>\n",
       "      <td>2017-07-23</td>\n",
       "      <td>0.0</td>\n",
       "      <td>728321</td>\n",
       "      <td>320466</td>\n",
       "      <td>1</td>\n",
       "    </tr>\n",
       "    <tr>\n",
       "      <th>2</th>\n",
       "      <td>51356.0</td>\n",
       "      <td>2</td>\n",
       "      <td>3000.00</td>\n",
       "      <td>3000.00</td>\n",
       "      <td>8</td>\n",
       "      <td>3000.00</td>\n",
       "      <td>28</td>\n",
       "      <td>1</td>\n",
       "      <td>3</td>\n",
       "      <td>10000.0</td>\n",
       "      <td>10000</td>\n",
       "      <td>84</td>\n",
       "      <td>0.0</td>\n",
       "      <td>2017-07-23</td>\n",
       "      <td>0.0</td>\n",
       "      <td>728323</td>\n",
       "      <td>320467</td>\n",
       "      <td>1</td>\n",
       "    </tr>\n",
       "    <tr>\n",
       "      <th>3</th>\n",
       "      <td>0.0</td>\n",
       "      <td>0</td>\n",
       "      <td>22784.19</td>\n",
       "      <td>32103.52</td>\n",
       "      <td>913</td>\n",
       "      <td>22784.19</td>\n",
       "      <td>28</td>\n",
       "      <td>0</td>\n",
       "      <td>52</td>\n",
       "      <td>10000.0</td>\n",
       "      <td>10000</td>\n",
       "      <td>7</td>\n",
       "      <td>0.0</td>\n",
       "      <td>2017-07-23</td>\n",
       "      <td>0.0</td>\n",
       "      <td>728447</td>\n",
       "      <td>320533</td>\n",
       "      <td>1</td>\n",
       "    </tr>\n",
       "    <tr>\n",
       "      <th>4</th>\n",
       "      <td>12298.0</td>\n",
       "      <td>1</td>\n",
       "      <td>4942.95</td>\n",
       "      <td>4950.00</td>\n",
       "      <td>2883</td>\n",
       "      <td>4942.95</td>\n",
       "      <td>31</td>\n",
       "      <td>0</td>\n",
       "      <td>47</td>\n",
       "      <td>5000.0</td>\n",
       "      <td>5000</td>\n",
       "      <td>20</td>\n",
       "      <td>0.0</td>\n",
       "      <td>2017-07-23</td>\n",
       "      <td>0.0</td>\n",
       "      <td>728421</td>\n",
       "      <td>298598</td>\n",
       "      <td>1</td>\n",
       "    </tr>\n",
       "  </tbody>\n",
       "</table>\n",
       "</div>"
      ],
      "text/plain": [
       "   closed_cred_sum  closed_creds  active_cred_sum_overdue  active_cred_sum  \\\n",
       "0         143822.0            22                   104.12        130068.80   \n",
       "1              0.0             0                 38151.93         46230.00   \n",
       "2          51356.0             2                  3000.00          3000.00   \n",
       "3              0.0             0                 22784.19         32103.52   \n",
       "4          12298.0             1                  4942.95          4950.00   \n",
       "\n",
       "   active_cred_day_overdue  active_cred_max_overdue  age  gender  region  \\\n",
       "0                        8                   756.09   31       0      36   \n",
       "1                     1492                 38151.93   51       0      93   \n",
       "2                        8                  3000.00   28       1       3   \n",
       "3                      913                 22784.19   28       0      52   \n",
       "4                     2883                  4942.95   31       0      47   \n",
       "\n",
       "   first_loan  loan_cost_all  first_days_quant  month_income  order_date  \\\n",
       "0     10000.0          10000               196           0.0  2017-07-23   \n",
       "1     10000.0          10000                17       20000.0  2017-07-23   \n",
       "2     10000.0          10000                84           0.0  2017-07-23   \n",
       "3     10000.0          10000                 7           0.0  2017-07-23   \n",
       "4      5000.0           5000                20           0.0  2017-07-23   \n",
       "\n",
       "   cost_all  order_id  client_id  expert  \n",
       "0       0.0    728319     320464       1  \n",
       "1       0.0    728321     320466       1  \n",
       "2       0.0    728323     320467       1  \n",
       "3       0.0    728447     320533       1  \n",
       "4       0.0    728421     298598       1  "
      ]
     },
     "execution_count": 2,
     "metadata": {},
     "output_type": "execute_result"
    }
   ],
   "source": [
    "df = pd.read_csv('data.csv', sep=';')\n",
    "df.head()"
   ]
  },
  {
   "cell_type": "markdown",
   "metadata": {},
   "source": [
    "### Исследуем наши данные"
   ]
  },
  {
   "cell_type": "code",
   "execution_count": 3,
   "metadata": {},
   "outputs": [
    {
     "data": {
      "text/plain": [
       "(50001, 18)"
      ]
     },
     "execution_count": 3,
     "metadata": {},
     "output_type": "execute_result"
    }
   ],
   "source": [
    "df.shape # размерности данных"
   ]
  },
  {
   "cell_type": "code",
   "execution_count": 4,
   "metadata": {},
   "outputs": [
    {
     "data": {
      "text/html": [
       "<div>\n",
       "<style scoped>\n",
       "    .dataframe tbody tr th:only-of-type {\n",
       "        vertical-align: middle;\n",
       "    }\n",
       "\n",
       "    .dataframe tbody tr th {\n",
       "        vertical-align: top;\n",
       "    }\n",
       "\n",
       "    .dataframe thead th {\n",
       "        text-align: right;\n",
       "    }\n",
       "</style>\n",
       "<table border=\"1\" class=\"dataframe\">\n",
       "  <thead>\n",
       "    <tr style=\"text-align: right;\">\n",
       "      <th></th>\n",
       "      <th>closed_cred_sum</th>\n",
       "      <th>closed_creds</th>\n",
       "      <th>active_cred_sum_overdue</th>\n",
       "      <th>active_cred_sum</th>\n",
       "      <th>active_cred_day_overdue</th>\n",
       "      <th>active_cred_max_overdue</th>\n",
       "      <th>age</th>\n",
       "      <th>gender</th>\n",
       "      <th>region</th>\n",
       "      <th>first_loan</th>\n",
       "      <th>loan_cost_all</th>\n",
       "      <th>first_days_quant</th>\n",
       "      <th>month_income</th>\n",
       "      <th>cost_all</th>\n",
       "      <th>order_id</th>\n",
       "      <th>client_id</th>\n",
       "      <th>expert</th>\n",
       "    </tr>\n",
       "  </thead>\n",
       "  <tbody>\n",
       "    <tr>\n",
       "      <th>count</th>\n",
       "      <td>5.000100e+04</td>\n",
       "      <td>50001.000000</td>\n",
       "      <td>5.000100e+04</td>\n",
       "      <td>5.000100e+04</td>\n",
       "      <td>50001.000000</td>\n",
       "      <td>5.000100e+04</td>\n",
       "      <td>50001.000000</td>\n",
       "      <td>50001.000000</td>\n",
       "      <td>50001.000000</td>\n",
       "      <td>49982.000000</td>\n",
       "      <td>50001.000000</td>\n",
       "      <td>50001.000000</td>\n",
       "      <td>50001.000000</td>\n",
       "      <td>50001.000000</td>\n",
       "      <td>50001.000000</td>\n",
       "      <td>50001.000000</td>\n",
       "      <td>50001.000000</td>\n",
       "    </tr>\n",
       "    <tr>\n",
       "      <th>mean</th>\n",
       "      <td>1.865780e+05</td>\n",
       "      <td>7.974001</td>\n",
       "      <td>5.217919e+04</td>\n",
       "      <td>1.964205e+05</td>\n",
       "      <td>722.563769</td>\n",
       "      <td>3.776984e+04</td>\n",
       "      <td>35.018900</td>\n",
       "      <td>0.462691</td>\n",
       "      <td>28.825083</td>\n",
       "      <td>7751.682606</td>\n",
       "      <td>6703.681926</td>\n",
       "      <td>23.954561</td>\n",
       "      <td>24943.402642</td>\n",
       "      <td>1233.828788</td>\n",
       "      <td>734747.279874</td>\n",
       "      <td>290563.956781</td>\n",
       "      <td>0.749265</td>\n",
       "    </tr>\n",
       "    <tr>\n",
       "      <th>std</th>\n",
       "      <td>5.057408e+05</td>\n",
       "      <td>13.933307</td>\n",
       "      <td>2.537311e+05</td>\n",
       "      <td>4.365213e+05</td>\n",
       "      <td>1371.656677</td>\n",
       "      <td>1.703992e+05</td>\n",
       "      <td>11.235206</td>\n",
       "      <td>0.498611</td>\n",
       "      <td>29.726162</td>\n",
       "      <td>5310.782009</td>\n",
       "      <td>4610.529844</td>\n",
       "      <td>36.670176</td>\n",
       "      <td>20652.768218</td>\n",
       "      <td>4556.672041</td>\n",
       "      <td>26254.078989</td>\n",
       "      <td>74592.964584</td>\n",
       "      <td>0.433441</td>\n",
       "    </tr>\n",
       "    <tr>\n",
       "      <th>min</th>\n",
       "      <td>0.000000e+00</td>\n",
       "      <td>0.000000</td>\n",
       "      <td>0.000000e+00</td>\n",
       "      <td>0.000000e+00</td>\n",
       "      <td>0.000000</td>\n",
       "      <td>0.000000e+00</td>\n",
       "      <td>18.000000</td>\n",
       "      <td>0.000000</td>\n",
       "      <td>0.000000</td>\n",
       "      <td>2000.000000</td>\n",
       "      <td>0.000000</td>\n",
       "      <td>0.000000</td>\n",
       "      <td>0.000000</td>\n",
       "      <td>0.000000</td>\n",
       "      <td>695828.000000</td>\n",
       "      <td>109.000000</td>\n",
       "      <td>0.000000</td>\n",
       "    </tr>\n",
       "    <tr>\n",
       "      <th>25%</th>\n",
       "      <td>5.502000e+03</td>\n",
       "      <td>1.000000</td>\n",
       "      <td>0.000000e+00</td>\n",
       "      <td>1.467400e+04</td>\n",
       "      <td>0.000000</td>\n",
       "      <td>4.870800e+02</td>\n",
       "      <td>27.000000</td>\n",
       "      <td>0.000000</td>\n",
       "      <td>0.000000</td>\n",
       "      <td>5000.000000</td>\n",
       "      <td>3000.000000</td>\n",
       "      <td>10.000000</td>\n",
       "      <td>0.000000</td>\n",
       "      <td>0.000000</td>\n",
       "      <td>715042.000000</td>\n",
       "      <td>294858.000000</td>\n",
       "      <td>0.000000</td>\n",
       "    </tr>\n",
       "    <tr>\n",
       "      <th>50%</th>\n",
       "      <td>4.287400e+04</td>\n",
       "      <td>4.000000</td>\n",
       "      <td>5.000000e+03</td>\n",
       "      <td>5.703022e+04</td>\n",
       "      <td>64.000000</td>\n",
       "      <td>6.765660e+03</td>\n",
       "      <td>32.000000</td>\n",
       "      <td>0.000000</td>\n",
       "      <td>25.000000</td>\n",
       "      <td>7000.000000</td>\n",
       "      <td>7000.000000</td>\n",
       "      <td>20.000000</td>\n",
       "      <td>25000.000000</td>\n",
       "      <td>0.000000</td>\n",
       "      <td>734707.000000</td>\n",
       "      <td>316156.000000</td>\n",
       "      <td>1.000000</td>\n",
       "    </tr>\n",
       "    <tr>\n",
       "      <th>75%</th>\n",
       "      <td>1.740713e+05</td>\n",
       "      <td>9.000000</td>\n",
       "      <td>3.157990e+04</td>\n",
       "      <td>1.972360e+05</td>\n",
       "      <td>923.000000</td>\n",
       "      <td>2.449949e+04</td>\n",
       "      <td>41.000000</td>\n",
       "      <td>1.000000</td>\n",
       "      <td>52.000000</td>\n",
       "      <td>10000.000000</td>\n",
       "      <td>10000.000000</td>\n",
       "      <td>20.000000</td>\n",
       "      <td>35000.000000</td>\n",
       "      <td>0.000000</td>\n",
       "      <td>749477.000000</td>\n",
       "      <td>330172.000000</td>\n",
       "      <td>1.000000</td>\n",
       "    </tr>\n",
       "    <tr>\n",
       "      <th>max</th>\n",
       "      <td>4.457421e+07</td>\n",
       "      <td>563.000000</td>\n",
       "      <td>3.303100e+07</td>\n",
       "      <td>2.273166e+07</td>\n",
       "      <td>21927.000000</td>\n",
       "      <td>2.170166e+07</td>\n",
       "      <td>99.000000</td>\n",
       "      <td>1.000000</td>\n",
       "      <td>99.000000</td>\n",
       "      <td>100000.000000</td>\n",
       "      <td>100000.000000</td>\n",
       "      <td>336.000000</td>\n",
       "      <td>550000.000000</td>\n",
       "      <td>238770.420000</td>\n",
       "      <td>840692.000000</td>\n",
       "      <td>393528.000000</td>\n",
       "      <td>1.000000</td>\n",
       "    </tr>\n",
       "  </tbody>\n",
       "</table>\n",
       "</div>"
      ],
      "text/plain": [
       "       closed_cred_sum  closed_creds  active_cred_sum_overdue  \\\n",
       "count     5.000100e+04  50001.000000             5.000100e+04   \n",
       "mean      1.865780e+05      7.974001             5.217919e+04   \n",
       "std       5.057408e+05     13.933307             2.537311e+05   \n",
       "min       0.000000e+00      0.000000             0.000000e+00   \n",
       "25%       5.502000e+03      1.000000             0.000000e+00   \n",
       "50%       4.287400e+04      4.000000             5.000000e+03   \n",
       "75%       1.740713e+05      9.000000             3.157990e+04   \n",
       "max       4.457421e+07    563.000000             3.303100e+07   \n",
       "\n",
       "       active_cred_sum  active_cred_day_overdue  active_cred_max_overdue  \\\n",
       "count     5.000100e+04             50001.000000             5.000100e+04   \n",
       "mean      1.964205e+05               722.563769             3.776984e+04   \n",
       "std       4.365213e+05              1371.656677             1.703992e+05   \n",
       "min       0.000000e+00                 0.000000             0.000000e+00   \n",
       "25%       1.467400e+04                 0.000000             4.870800e+02   \n",
       "50%       5.703022e+04                64.000000             6.765660e+03   \n",
       "75%       1.972360e+05               923.000000             2.449949e+04   \n",
       "max       2.273166e+07             21927.000000             2.170166e+07   \n",
       "\n",
       "                age        gender        region     first_loan  loan_cost_all  \\\n",
       "count  50001.000000  50001.000000  50001.000000   49982.000000   50001.000000   \n",
       "mean      35.018900      0.462691     28.825083    7751.682606    6703.681926   \n",
       "std       11.235206      0.498611     29.726162    5310.782009    4610.529844   \n",
       "min       18.000000      0.000000      0.000000    2000.000000       0.000000   \n",
       "25%       27.000000      0.000000      0.000000    5000.000000    3000.000000   \n",
       "50%       32.000000      0.000000     25.000000    7000.000000    7000.000000   \n",
       "75%       41.000000      1.000000     52.000000   10000.000000   10000.000000   \n",
       "max       99.000000      1.000000     99.000000  100000.000000  100000.000000   \n",
       "\n",
       "       first_days_quant   month_income       cost_all       order_id  \\\n",
       "count      50001.000000   50001.000000   50001.000000   50001.000000   \n",
       "mean          23.954561   24943.402642    1233.828788  734747.279874   \n",
       "std           36.670176   20652.768218    4556.672041   26254.078989   \n",
       "min            0.000000       0.000000       0.000000  695828.000000   \n",
       "25%           10.000000       0.000000       0.000000  715042.000000   \n",
       "50%           20.000000   25000.000000       0.000000  734707.000000   \n",
       "75%           20.000000   35000.000000       0.000000  749477.000000   \n",
       "max          336.000000  550000.000000  238770.420000  840692.000000   \n",
       "\n",
       "           client_id        expert  \n",
       "count   50001.000000  50001.000000  \n",
       "mean   290563.956781      0.749265  \n",
       "std     74592.964584      0.433441  \n",
       "min       109.000000      0.000000  \n",
       "25%    294858.000000      0.000000  \n",
       "50%    316156.000000      1.000000  \n",
       "75%    330172.000000      1.000000  \n",
       "max    393528.000000      1.000000  "
      ]
     },
     "execution_count": 4,
     "metadata": {},
     "output_type": "execute_result"
    }
   ],
   "source": [
    "df.describe() # основные статистики столбцов фичей"
   ]
  },
  {
   "cell_type": "markdown",
   "metadata": {},
   "source": [
    "Заметим, что в столбце \"first_loan\" не хватает значений. Найдем все столбцы, содержащие пустые поля."
   ]
  },
  {
   "cell_type": "code",
   "execution_count": 5,
   "metadata": {},
   "outputs": [
    {
     "data": {
      "text/plain": [
       "closed_cred_sum            False\n",
       "closed_creds               False\n",
       "active_cred_sum_overdue    False\n",
       "active_cred_sum            False\n",
       "active_cred_day_overdue    False\n",
       "active_cred_max_overdue    False\n",
       "age                        False\n",
       "gender                     False\n",
       "region                     False\n",
       "first_loan                  True\n",
       "loan_cost_all              False\n",
       "first_days_quant           False\n",
       "month_income               False\n",
       "order_date                 False\n",
       "cost_all                   False\n",
       "order_id                   False\n",
       "client_id                  False\n",
       "expert                     False\n",
       "dtype: bool"
      ]
     },
     "execution_count": 5,
     "metadata": {},
     "output_type": "execute_result"
    }
   ],
   "source": [
    "df.isnull().any() "
   ]
  },
  {
   "cell_type": "code",
   "execution_count": 6,
   "metadata": {},
   "outputs": [
    {
     "data": {
      "text/html": [
       "<div>\n",
       "<style scoped>\n",
       "    .dataframe tbody tr th:only-of-type {\n",
       "        vertical-align: middle;\n",
       "    }\n",
       "\n",
       "    .dataframe tbody tr th {\n",
       "        vertical-align: top;\n",
       "    }\n",
       "\n",
       "    .dataframe thead th {\n",
       "        text-align: right;\n",
       "    }\n",
       "</style>\n",
       "<table border=\"1\" class=\"dataframe\">\n",
       "  <thead>\n",
       "    <tr style=\"text-align: right;\">\n",
       "      <th></th>\n",
       "      <th>closed_cred_sum</th>\n",
       "      <th>closed_creds</th>\n",
       "      <th>active_cred_sum_overdue</th>\n",
       "      <th>active_cred_sum</th>\n",
       "      <th>active_cred_day_overdue</th>\n",
       "      <th>active_cred_max_overdue</th>\n",
       "      <th>age</th>\n",
       "      <th>gender</th>\n",
       "      <th>region</th>\n",
       "      <th>first_loan</th>\n",
       "      <th>loan_cost_all</th>\n",
       "      <th>first_days_quant</th>\n",
       "      <th>month_income</th>\n",
       "      <th>order_date</th>\n",
       "      <th>cost_all</th>\n",
       "      <th>order_id</th>\n",
       "      <th>client_id</th>\n",
       "      <th>expert</th>\n",
       "    </tr>\n",
       "  </thead>\n",
       "  <tbody>\n",
       "    <tr>\n",
       "      <th>184</th>\n",
       "      <td>2722669.00</td>\n",
       "      <td>59</td>\n",
       "      <td>0.00</td>\n",
       "      <td>891500.00</td>\n",
       "      <td>0</td>\n",
       "      <td>8956.61</td>\n",
       "      <td>57</td>\n",
       "      <td>0</td>\n",
       "      <td>40</td>\n",
       "      <td>NaN</td>\n",
       "      <td>10000</td>\n",
       "      <td>10</td>\n",
       "      <td>87000.0</td>\n",
       "      <td>2017-07-25</td>\n",
       "      <td>0.0</td>\n",
       "      <td>730831</td>\n",
       "      <td>183863</td>\n",
       "      <td>1</td>\n",
       "    </tr>\n",
       "    <tr>\n",
       "      <th>7150</th>\n",
       "      <td>765963.00</td>\n",
       "      <td>8</td>\n",
       "      <td>589946.45</td>\n",
       "      <td>1025000.00</td>\n",
       "      <td>4418</td>\n",
       "      <td>259317.43</td>\n",
       "      <td>53</td>\n",
       "      <td>0</td>\n",
       "      <td>40</td>\n",
       "      <td>NaN</td>\n",
       "      <td>2000</td>\n",
       "      <td>20</td>\n",
       "      <td>40000.0</td>\n",
       "      <td>2017-07-01</td>\n",
       "      <td>0.0</td>\n",
       "      <td>702433</td>\n",
       "      <td>306898</td>\n",
       "      <td>1</td>\n",
       "    </tr>\n",
       "    <tr>\n",
       "      <th>8848</th>\n",
       "      <td>23500.00</td>\n",
       "      <td>4</td>\n",
       "      <td>12594.87</td>\n",
       "      <td>287250.00</td>\n",
       "      <td>282</td>\n",
       "      <td>8500.00</td>\n",
       "      <td>22</td>\n",
       "      <td>0</td>\n",
       "      <td>40</td>\n",
       "      <td>NaN</td>\n",
       "      <td>2000</td>\n",
       "      <td>20</td>\n",
       "      <td>42000.0</td>\n",
       "      <td>2017-07-03</td>\n",
       "      <td>0.0</td>\n",
       "      <td>705194</td>\n",
       "      <td>214622</td>\n",
       "      <td>1</td>\n",
       "    </tr>\n",
       "    <tr>\n",
       "      <th>13176</th>\n",
       "      <td>24000.00</td>\n",
       "      <td>3</td>\n",
       "      <td>2230.20</td>\n",
       "      <td>3000.00</td>\n",
       "      <td>5</td>\n",
       "      <td>2230.20</td>\n",
       "      <td>22</td>\n",
       "      <td>0</td>\n",
       "      <td>0</td>\n",
       "      <td>NaN</td>\n",
       "      <td>2000</td>\n",
       "      <td>20</td>\n",
       "      <td>25000.0</td>\n",
       "      <td>2017-07-08</td>\n",
       "      <td>0.0</td>\n",
       "      <td>711678</td>\n",
       "      <td>197369</td>\n",
       "      <td>1</td>\n",
       "    </tr>\n",
       "    <tr>\n",
       "      <th>13461</th>\n",
       "      <td>934734.29</td>\n",
       "      <td>97</td>\n",
       "      <td>0.00</td>\n",
       "      <td>307449.02</td>\n",
       "      <td>0</td>\n",
       "      <td>764.82</td>\n",
       "      <td>25</td>\n",
       "      <td>1</td>\n",
       "      <td>0</td>\n",
       "      <td>NaN</td>\n",
       "      <td>2500</td>\n",
       "      <td>20</td>\n",
       "      <td>50000.0</td>\n",
       "      <td>2017-07-08</td>\n",
       "      <td>3590.0</td>\n",
       "      <td>712046</td>\n",
       "      <td>231691</td>\n",
       "      <td>0</td>\n",
       "    </tr>\n",
       "  </tbody>\n",
       "</table>\n",
       "</div>"
      ],
      "text/plain": [
       "       closed_cred_sum  closed_creds  active_cred_sum_overdue  \\\n",
       "184         2722669.00            59                     0.00   \n",
       "7150         765963.00             8                589946.45   \n",
       "8848          23500.00             4                 12594.87   \n",
       "13176         24000.00             3                  2230.20   \n",
       "13461        934734.29            97                     0.00   \n",
       "\n",
       "       active_cred_sum  active_cred_day_overdue  active_cred_max_overdue  age  \\\n",
       "184          891500.00                        0                  8956.61   57   \n",
       "7150        1025000.00                     4418                259317.43   53   \n",
       "8848         287250.00                      282                  8500.00   22   \n",
       "13176          3000.00                        5                  2230.20   22   \n",
       "13461        307449.02                        0                   764.82   25   \n",
       "\n",
       "       gender  region  first_loan  loan_cost_all  first_days_quant  \\\n",
       "184         0      40         NaN          10000                10   \n",
       "7150        0      40         NaN           2000                20   \n",
       "8848        0      40         NaN           2000                20   \n",
       "13176       0       0         NaN           2000                20   \n",
       "13461       1       0         NaN           2500                20   \n",
       "\n",
       "       month_income  order_date  cost_all  order_id  client_id  expert  \n",
       "184         87000.0  2017-07-25       0.0    730831     183863       1  \n",
       "7150        40000.0  2017-07-01       0.0    702433     306898       1  \n",
       "8848        42000.0  2017-07-03       0.0    705194     214622       1  \n",
       "13176       25000.0  2017-07-08       0.0    711678     197369       1  \n",
       "13461       50000.0  2017-07-08    3590.0    712046     231691       0  "
      ]
     },
     "execution_count": 6,
     "metadata": {},
     "output_type": "execute_result"
    }
   ],
   "source": [
    "df.loc[df.first_loan.isna()].head()"
   ]
  },
  {
   "cell_type": "markdown",
   "metadata": {},
   "source": [
    "Избавимся от строк с нулевыми значениями"
   ]
  },
  {
   "cell_type": "code",
   "execution_count": 7,
   "metadata": {},
   "outputs": [],
   "source": [
    "df.dropna(inplace = True)"
   ]
  },
  {
   "cell_type": "markdown",
   "metadata": {},
   "source": [
    "Проверим выборку на сбалансированность"
   ]
  },
  {
   "cell_type": "code",
   "execution_count": 8,
   "metadata": {},
   "outputs": [
    {
     "data": {
      "text/plain": [
       "2.988668103104301"
      ]
     },
     "execution_count": 8,
     "metadata": {},
     "output_type": "execute_result"
    }
   ],
   "source": [
    "len(df.loc[df.expert == 1])/len(df.loc[df.expert == 0])"
   ]
  },
  {
   "cell_type": "markdown",
   "metadata": {},
   "source": [
    "Выборка несбалансированна с соотношением 3:1 в сторону отклоненных кредитов. В дальнейшем для оценки полученных моделей мы применим кросс-валидацию."
   ]
  },
  {
   "cell_type": "markdown",
   "metadata": {},
   "source": [
    "Делим данные на характеристики и целевые значения, попутно избавляясь от нерелевантных столбцов (таких как дата подачи заявки, id заявки, id клиента)."
   ]
  },
  {
   "cell_type": "code",
   "execution_count": 9,
   "metadata": {},
   "outputs": [],
   "source": [
    "featuresDF = df.loc[:, (df.columns != 'expert')&(df.columns != 'order_date')&(df.columns != 'client_id')&(df.columns != 'order_id')]\n",
    "labelsDF = df.expert"
   ]
  },
  {
   "cell_type": "markdown",
   "metadata": {},
   "source": [
    "Делим данные на тренировочные и тестовые"
   ]
  },
  {
   "cell_type": "code",
   "execution_count": 10,
   "metadata": {},
   "outputs": [],
   "source": [
    "from sklearn.model_selection import train_test_split\n",
    "\n",
    "X_train, X_test, y_train, y_test = train_test_split(featuresDF, labelsDF, test_size=0.25, random_state=1)"
   ]
  },
  {
   "cell_type": "markdown",
   "metadata": {},
   "source": [
    "## Строим модели"
   ]
  },
  {
   "cell_type": "markdown",
   "metadata": {},
   "source": [
    "В качестве алгоритмов возьмем решающее дерево, случайный лес, наивный байес и логистическую регрессию."
   ]
  },
  {
   "cell_type": "code",
   "execution_count": 11,
   "metadata": {},
   "outputs": [],
   "source": [
    "from sklearn.tree import DecisionTreeClassifier\n",
    "from sklearn.ensemble import RandomForestClassifier\n",
    "from sklearn.naive_bayes import GaussianNB\n",
    "from sklearn.linear_model import LogisticRegression\n",
    "\n",
    "classifiers = [\n",
    "    DecisionTreeClassifier(),\n",
    "    RandomForestClassifier(),\n",
    "    GaussianNB(),\n",
    "    LogisticRegression(solver='saga',max_iter=10000)\n",
    "]"
   ]
  },
  {
   "cell_type": "markdown",
   "metadata": {},
   "source": [
    "Функция, реализующая обучения списка алгоритмов и попутно собирающая по каждой из полученных моделей статистику, необходимую для постороения ROC-кривой и Precision-Recall кривой."
   ]
  },
  {
   "cell_type": "code",
   "execution_count": 12,
   "metadata": {},
   "outputs": [],
   "source": [
    "from sklearn.metrics import roc_curve, roc_auc_score, precision_recall_curve\n",
    "\n",
    "def fitClassifiers(classifiers, X_train, X_test, y_train, y_test):\n",
    "    roc_curves_stats = {}\n",
    "    pr_curves_stats = {}\n",
    "    \n",
    "    for classifier in classifiers:\n",
    "        model_name = type(classifier).__name__\n",
    "        \n",
    "        classifier.fit(X_train, y_train)\n",
    "        probs = classifier.predict_proba(X_test)[:,1]\n",
    "        \n",
    "        fpr, tpr, roc_tresholds = roc_curve(y_test, probs)\n",
    "        ROC_AUC_score = roc_auc_score(y_test, probs)\n",
    "        \n",
    "        precision, recall, pr_tresholds = precision_recall_curve(y_test, probs)\n",
    "        \n",
    "        roc_curves_stats[model_name] = {'tpr': tpr,\n",
    "                                        'fpr': fpr,\n",
    "                                        'tresholds': roc_tresholds,\n",
    "                                        'roc_auc_score': ROC_AUC_score\n",
    "                                       }\n",
    "        \n",
    "        pr_curves_stats[model_name] = {'precision': precision,\n",
    "                                       'recall': recall,\n",
    "                                       'tresholds': pr_tresholds}\n",
    "    \n",
    "    return classifiers, roc_curves_stats, pr_curves_stats"
   ]
  },
  {
   "cell_type": "code",
   "execution_count": 13,
   "metadata": {},
   "outputs": [],
   "source": [
    "classifiers, roc_curves_stats, pr_curves_stats = fitClassifiers(classifiers, X_train, X_test, y_train, y_test)"
   ]
  },
  {
   "cell_type": "markdown",
   "metadata": {},
   "source": [
    "## Смотрим метрики"
   ]
  },
  {
   "cell_type": "markdown",
   "metadata": {},
   "source": [
    "Критерий AUC-ROC выбран основной метрикой оценки моделей, так как он более устойчив к несбалансированным классам. Однако, так как AUC-ROC не учитывает точность и полноту модели, для полноты картины рассмотрим еще и PR-кривую. Важно отметить, что при сравнении сопоставимых в соответствии с AUC-ROC моделей стоит обратить наибольшее внимание на полноту (recall), потому что в нашей конкретной задаче нам важнее отклонить наибольший процент кредитов, не соответствующих критериям банка, нежели выдать кредиты наибольшему количеству клиентов (таким образом мы минимизируем риски)."
   ]
  },
  {
   "cell_type": "markdown",
   "metadata": {},
   "source": [
    "### ROC - кривые"
   ]
  },
  {
   "cell_type": "markdown",
   "metadata": {},
   "source": [
    "Функции для построения ROC-кривой и PR-кривой."
   ]
  },
  {
   "cell_type": "code",
   "execution_count": 14,
   "metadata": {},
   "outputs": [],
   "source": [
    "import matplotlib.pyplot as plt\n",
    "\n",
    "def plotROCCurves(roc_curves_stats):\n",
    "    for roc_curve_key in roc_curves_stats:\n",
    "        plt.plot(\n",
    "            roc_curves_stats[roc_curve_key]['fpr'], \n",
    "            roc_curves_stats[roc_curve_key]['tpr'], \n",
    "            label=f'{roc_curve_key} (AUROC = {roc_curves_stats[roc_curve_key][\"roc_auc_score\"]})')\n",
    "\n",
    "\n",
    "    plt.title('ROC-кривая')\n",
    "    plt.xlabel('False Positive Rate')\n",
    "    plt.ylabel('True Positive Rate')\n",
    "    plt.legend()\n",
    "    plt.show()\n",
    "    \n",
    "def plotPRCurves(pr_curves_stats):\n",
    "    for pr_curve in pr_curves_stats:\n",
    "        plt.plot(\n",
    "            pr_curves_stats[pr_curve]['precision'], \n",
    "            pr_curves_stats[pr_curve]['recall'], \n",
    "            label=f'{pr_curve} ')\n",
    "        \n",
    "    \n",
    "    plt.title('PR-кривая')\n",
    "    plt.xlabel('Recall')\n",
    "    plt.ylabel('Precision')\n",
    "    plt.legend()\n",
    "    plt.show()"
   ]
  },
  {
   "cell_type": "code",
   "execution_count": 15,
   "metadata": {},
   "outputs": [
    {
     "data": {
      "image/png": "[encoded data removed]",
      "text/plain": [
       "<Figure size 432x288 with 1 Axes>"
      ]
     },
     "metadata": {
      "needs_background": "light"
     },
     "output_type": "display_data"
    }
   ],
   "source": [
    "plotROCCurves(roc_curves_stats)"
   ]
  },
  {
   "cell_type": "code",
   "execution_count": 16,
   "metadata": {},
   "outputs": [
    {
     "data": {
      "image/png": "[encoded data removed]",
      "text/plain": [
       "<Figure size 432x288 with 1 Axes>"
      ]
     },
     "metadata": {
      "needs_background": "light"
     },
     "output_type": "display_data"
    }
   ],
   "source": [
    "plotPRCurves(pr_curves_stats)"
   ]
  },
  {
   "cell_type": "markdown",
   "metadata": {},
   "source": [
    "Нетрудно заметить, что наилучшим образом себя проявил алгоритм RandomForestClassifier. Построим для него confusion-matrix."
   ]
  },
  {
   "cell_type": "code",
   "execution_count": 17,
   "metadata": {},
   "outputs": [
    {
     "data": {
      "text/plain": [
       "<sklearn.metrics._plot.confusion_matrix.ConfusionMatrixDisplay at 0x7ff0cf8f2d30>"
      ]
     },
     "execution_count": 17,
     "metadata": {},
     "output_type": "execute_result"
    },
    {
     "data": {
      "image/png": "[encoded data removed]",
      "text/plain": [
       "<Figure size 432x288 with 2 Axes>"
      ]
     },
     "metadata": {
      "needs_background": "light"
     },
     "output_type": "display_data"
    }
   ],
   "source": [
    "from sklearn.metrics import plot_confusion_matrix\n",
    "\n",
    "plot_confusion_matrix(classifiers[1], X_test, y_test)"
   ]
  },
  {
   "cell_type": "markdown",
   "metadata": {},
   "source": [
    "Посмотрим, какие характеристики заявки наиболее значимы."
   ]
  },
  {
   "cell_type": "code",
   "execution_count": 18,
   "metadata": {},
   "outputs": [
    {
     "data": {
      "text/plain": [
       "<BarContainer object of 14 artists>"
      ]
     },
     "execution_count": 18,
     "metadata": {},
     "output_type": "execute_result"
    },
    {
     "data": {
      "image/png": "[encoded data removed]",
      "text/plain": [
       "<Figure size 432x288 with 1 Axes>"
      ]
     },
     "metadata": {
      "needs_background": "light"
     },
     "output_type": "display_data"
    }
   ],
   "source": [
    "plt.barh(X_test.columns, classifiers[1].feature_importances_)"
   ]
  },
  {
   "cell_type": "markdown",
   "metadata": {},
   "source": [
    "Наиболее значимы значения суммы всех выплат по одобренному кредиту, одобренной клиенту сумме кредита и суммы, которую клиент хочет получить в кредит. Имеет смысл попробовать дать модели обучиться исключительно на этих характеристиках."
   ]
  },
  {
   "cell_type": "markdown",
   "metadata": {},
   "source": [
    "### Кросс валидация на всех и на трех наиболее значимых характеристик"
   ]
  },
  {
   "cell_type": "code",
   "execution_count": 19,
   "metadata": {},
   "outputs": [],
   "source": [
    "rf_all = RandomForestClassifier()\n",
    "rf_top = RandomForestClassifier()"
   ]
  },
  {
   "cell_type": "code",
   "execution_count": 20,
   "metadata": {},
   "outputs": [],
   "source": [
    "from sklearn.model_selection import cross_val_score"
   ]
  },
  {
   "cell_type": "code",
   "execution_count": 21,
   "metadata": {},
   "outputs": [
    {
     "data": {
      "text/plain": [
       "array([0.98159448, 0.98769631, 0.98719488, 0.98439376, 0.9844938 ])"
      ]
     },
     "execution_count": 21,
     "metadata": {},
     "output_type": "execute_result"
    }
   ],
   "source": [
    "cross_val_score(rf_all, featuresDF, labelsDF, cv=5)"
   ]
  },
  {
   "cell_type": "code",
   "execution_count": 22,
   "metadata": {},
   "outputs": [
    {
     "data": {
      "text/plain": [
       "array([0.98409523, 0.99249775, 0.9919968 , 0.98809524, 0.98639456])"
      ]
     },
     "execution_count": 22,
     "metadata": {},
     "output_type": "execute_result"
    }
   ],
   "source": [
    "cross_val_score(rf_top, featuresDF.loc[:,['cost_all','loan_cost_all','first_loan']], labelsDF, cv=5)"
   ]
  },
  {
   "cell_type": "markdown",
   "metadata": {},
   "source": [
    "Исходя из точности похоже, что RandomForestClassifier справляется лучше, если дать ему на вход исключительно наиболее значимые характеристики анкеты. Как уже упоминалось ранее, наиболее ценным критерием при сравнении сопоставимых моделей для нас является полнота. Найдем recall для каждого из случаев."
   ]
  },
  {
   "cell_type": "code",
   "execution_count": 23,
   "metadata": {},
   "outputs": [],
   "source": [
    "rf_all, roc_curves_stats, pr_curves_stats = fitClassifiers([RandomForestClassifier()], X_train, X_test, y_train, y_test)"
   ]
  },
  {
   "cell_type": "code",
   "execution_count": 24,
   "metadata": {},
   "outputs": [
    {
     "name": "stdout",
     "output_type": "stream",
     "text": [
      "RandomForestClassifier (все характеристики): recall =  0.9981673134971971\n"
     ]
    }
   ],
   "source": [
    "from sklearn.metrics import recall_score\n",
    "\n",
    "print('RandomForestClassifier (все характеристики): recall = ',recall_score(y_test, rf_all[0].predict(X_test)))"
   ]
  },
  {
   "cell_type": "code",
   "execution_count": 25,
   "metadata": {},
   "outputs": [],
   "source": [
    "rf_top, roc_curves_stats, pr_curves_stats = fitClassifiers([RandomForestClassifier()], X_train.loc[:,['cost_all','loan_cost_all','first_loan']], X_test.loc[:,['cost_all','loan_cost_all','first_loan']], y_train, y_test)"
   ]
  },
  {
   "cell_type": "code",
   "execution_count": 26,
   "metadata": {},
   "outputs": [
    {
     "name": "stdout",
     "output_type": "stream",
     "text": [
      "RandomForestClassifier (значимые характеристики): recall =  0.9984907287623976\n"
     ]
    }
   ],
   "source": [
    "print('RandomForestClassifier (значимые характеристики): recall = ',recall_score(y_test, rf_top[0].predict(X_test.loc[:,['cost_all','loan_cost_all','first_loan']])))"
   ]
  },
  {
   "cell_type": "markdown",
   "metadata": {},
   "source": [
    "Теперь без сомнений можно утверждать, что RandomForestClassifier, которому на вход дали только значимые переменные, справился лучше :)"
   ]
  },
  {
   "cell_type": "code",
   "execution_count": null,
   "metadata": {},
   "outputs": [],
   "source": []
  }
 ],
 "metadata": {
  "kernelspec": {
   "display_name": "real_ds_env",
   "language": "python",
   "name": "real_ds_env"
  },
  "language_info": {
   "codemirror_mode": {
    "name": "ipython",
    "version": 3
   },
   "file_extension": ".py",
   "mimetype": "text/x-python",
   "name": "python",
   "nbconvert_exporter": "python",
   "pygments_lexer": "ipython3",
   "version": "3.8.5"
  }
 },
 "nbformat": 4,
 "nbformat_minor": 4
}
